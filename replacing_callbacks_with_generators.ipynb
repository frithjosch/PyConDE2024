{
 "cells": [
  {
   "cell_type": "markdown",
   "id": "fb5497a3-7f28-46d2-82ef-ee13dfc45176",
   "metadata": {},
   "source": [
    "# Replacing Callbacks with Generators: A Case Study in Computer-Assisted Live Music\n",
    "\n",
    "Talk by [Matthieu Amiguet](https://www.matthieuamiguet.ch/). Supporting material in [this blog post](https://www.matthieuamiguet.ch/blog/PyConDE24)."
   ]
  },
  {
   "cell_type": "code",
   "execution_count": null,
   "id": "f6824086-6557-4c04-be73-c5a91fb9de10",
   "metadata": {},
   "outputs": [],
   "source": [
    "def f():\n",
    "    return \"*\"\n",
    "\n",
    "\n",
    "def g():\n",
    "    return \".\"\n",
    "\n",
    "\n",
    "def h():\n",
    "    return \"#\""
   ]
  },
  {
   "cell_type": "code",
   "execution_count": null,
   "id": "b8057c77-4c14-4e04-956d-f70d2da043d1",
   "metadata": {},
   "outputs": [],
   "source": [
    "from time import sleep\n",
    "\n",
    "button_for_g_was_clicked = False\n",
    "button_for_h_was_clicked = False\n",
    "\n",
    "\n",
    "def click_button_for_g():\n",
    "    global button_for_g_was_clicked\n",
    "    global button_for_h_was_clicked\n",
    "    button_for_g_was_clicked = True\n",
    "    button_for_h_was_clicked = False\n",
    "\n",
    "\n",
    "def click_button_for_h():\n",
    "    global button_for_g_was_clicked\n",
    "    global button_for_h_was_clicked\n",
    "    button_for_g_was_clicked = False\n",
    "    button_for_h_was_clicked = True\n",
    "    \n",
    "\n",
    "def runner():\n",
    "    if button_for_g_was_clicked:\n",
    "        return g()\n",
    "    elif button_for_h_was_clicked:\n",
    "        return h()\n",
    "    else:\n",
    "        return f()\n",
    "\n",
    "\n",
    "for tick in range(15):\n",
    "    # we decide to click the button after five seconds\n",
    "    if tick == 5:\n",
    "        click_button_for_g()\n",
    "    if tick == 10:\n",
    "        click_button_for_h()\n",
    "        \n",
    "    print(runner(), end=\"\")\n",
    "\n",
    "    sleep(.5)"
   ]
  },
  {
   "cell_type": "code",
   "execution_count": null,
   "id": "e44748b2-2bcf-4be0-a3bc-6e0329f0a403",
   "metadata": {},
   "outputs": [],
   "source": [
    "from time import sleep\n",
    "\n",
    "\n",
    "def create_runner(fct):\n",
    "    while True:\n",
    "        new_fct = yield fct()\n",
    "        fct = new_fct if new_fct != None else fct\n",
    "\n",
    "\n",
    "runner = create_runner(f)\n",
    "\n",
    "for tick in range(15):\n",
    "    # we decide to click the button after five seconds\n",
    "    if tick == 5:\n",
    "        print(runner.send(g), end=\"\")\n",
    "        continue\n",
    "    if tick == 10:\n",
    "        print(runner.send(h), end=\"\")\n",
    "        continue\n",
    "        \n",
    "    print(next(runner), end=\"\")\n",
    "\n",
    "    sleep(.5)"
   ]
  }
 ],
 "metadata": {
  "kernelspec": {
   "display_name": "Python 3 (ipykernel)",
   "language": "python",
   "name": "python3"
  },
  "language_info": {
   "codemirror_mode": {
    "name": "ipython",
    "version": 3
   },
   "file_extension": ".py",
   "mimetype": "text/x-python",
   "name": "python",
   "nbconvert_exporter": "python",
   "pygments_lexer": "ipython3",
   "version": "3.12.3"
  }
 },
 "nbformat": 4,
 "nbformat_minor": 5
}
